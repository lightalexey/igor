{
 "cells": [
  {
   "cell_type": "code",
   "execution_count": 1,
   "id": "committed-roulette",
   "metadata": {},
   "outputs": [
    {
     "name": "stdout",
     "output_type": "stream",
     "text": [
      "3\n",
      "2\n",
      "32\n"
     ]
    }
   ],
   "source": [
    "a = input()\n",
    "b = input()\n",
    "summa = a + b\n",
    "print(summa)"
   ]
  },
  {
   "cell_type": "code",
   "execution_count": 3,
   "id": "classical-distance",
   "metadata": {},
   "outputs": [
    {
     "name": "stdout",
     "output_type": "stream",
     "text": [
      "введи a=3\n",
      "введи b=2\n",
      "5\n"
     ]
    }
   ],
   "source": [
    "a = int(input('введи a='))\n",
    "b = int(input('введи b='))\n",
    "summa = a + b\n",
    "print(summa)"
   ]
  },
  {
   "cell_type": "code",
   "execution_count": 4,
   "id": "split-adult",
   "metadata": {},
   "outputs": [
    {
     "name": "stdout",
     "output_type": "stream",
     "text": [
      "введи a=3\n",
      "введи b=2\n",
      "5\n"
     ]
    }
   ],
   "source": [
    "a = int(input('введи a='))\n",
    "b = int(input('введи b='))\n",
    "print(a + b)"
   ]
  },
  {
   "cell_type": "code",
   "execution_count": 5,
   "id": "systematic-capacity",
   "metadata": {},
   "outputs": [
    {
     "name": "stdout",
     "output_type": "stream",
     "text": [
      "введи a=3\n",
      "введи b=2\n",
      "5\n"
     ]
    }
   ],
   "source": [
    "print(int(input('введи a=')) + int(input('введи b=')))"
   ]
  },
  {
   "cell_type": "code",
   "execution_count": null,
   "id": "serial-richardson",
   "metadata": {},
   "outputs": [],
   "source": []
  }
 ],
 "metadata": {
  "kernelspec": {
   "display_name": "Python 3",
   "language": "python",
   "name": "python3"
  },
  "language_info": {
   "codemirror_mode": {
    "name": "ipython",
    "version": 3
   },
   "file_extension": ".py",
   "mimetype": "text/x-python",
   "name": "python",
   "nbconvert_exporter": "python",
   "pygments_lexer": "ipython3",
   "version": "3.6.13"
  }
 },
 "nbformat": 4,
 "nbformat_minor": 5
}
